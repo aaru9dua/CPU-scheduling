{
  "nbformat": 4,
  "nbformat_minor": 0,
  "metadata": {
    "colab": {
      "name": "first-fit.ipynb",
      "provenance": []
    },
    "kernelspec": {
      "name": "python3",
      "display_name": "Python 3"
    }
  },
  "cells": [
    {
      "cell_type": "code",
      "metadata": {
        "colab": {
          "base_uri": "https://localhost:8080/"
        },
        "id": "BO-9fgUEnA8p",
        "outputId": "a1d34b76-1ca3-4893-aa04-6932a7692092"
      },
      "source": [
        "frames = int(input(\"Enter the number of frames:\"))\n",
        "\n",
        "print(\"Enter the reference string: \",end=\"\")\n",
        "s = list(map(int,input().split()))\n"
      ],
      "execution_count": null,
      "outputs": [
        {
          "output_type": "stream",
          "text": [
            "Enter the number of frames:3\n",
            "Enter the reference string: 7 0 1 2 0 3 0 4 2 3 0 3 2 1 2 0 1 7 0 1\n"
          ],
          "name": "stdout"
        }
      ]
    },
    {
      "cell_type": "code",
      "metadata": {
        "id": "RuiCF-vInn_l",
        "colab": {
          "base_uri": "https://localhost:8080/"
        },
        "outputId": "0fe8707f-3500-43d0-8451-b45b725a34a4"
      },
      "source": [
        "page_faults = 0\n",
        "f=[]\n",
        "top=0\n",
        "fault=0\n",
        "for i in s:\n",
        "    if i not in f:\n",
        "        if len(f)<frames:\n",
        "            f.append(i)\n",
        "        else:\n",
        "            f[top] = i\n",
        "            top = (top+1)%frames\n",
        "        fault += 1\n",
        "        pf = 'Yes'\n",
        "    else:\n",
        "        pf = 'No'\n",
        "    print(\"   %d\\t\"%i,end='')\n",
        "\n",
        "    for x in f:\n",
        "        print(x,end=' ')\n",
        "    for x in range(frames-len(f)):\n",
        "        print(' ',end=' ')\n",
        "    print(\" %s\"%pf)\n",
        "print(\"\\nTotal requests: %d\\nTotal Page Faults: %d\"%(len(s),fault))    \n",
        "        "
      ],
      "execution_count": null,
      "outputs": [
        {
          "output_type": "stream",
          "text": [
            "   7\t7      Yes\n",
            "   0\t7 0    Yes\n",
            "   1\t7 0 1  Yes\n",
            "   2\t2 0 1  Yes\n",
            "   0\t2 0 1  No\n",
            "   3\t2 3 1  Yes\n",
            "   0\t2 3 0  Yes\n",
            "   4\t4 3 0  Yes\n",
            "   2\t4 2 0  Yes\n",
            "   3\t4 2 3  Yes\n",
            "   0\t0 2 3  Yes\n",
            "   3\t0 2 3  No\n",
            "   2\t0 2 3  No\n",
            "   1\t0 1 3  Yes\n",
            "   2\t0 1 2  Yes\n",
            "   0\t0 1 2  No\n",
            "   1\t0 1 2  No\n",
            "   7\t7 1 2  Yes\n",
            "   0\t7 0 2  Yes\n",
            "   1\t7 0 1  Yes\n",
            "\n",
            "Total requests: 20\n",
            "Total Page Faults: 15\n"
          ],
          "name": "stdout"
        }
      ]
    },
    {
      "cell_type": "code",
      "metadata": {
        "id": "IJw5fpdhEJ3e"
      },
      "source": [
        ""
      ],
      "execution_count": null,
      "outputs": []
    }
  ]
}