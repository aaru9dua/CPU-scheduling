{
 "cells": [
  {
   "cell_type": "code",
   "execution_count": 1,
   "metadata": {},
   "outputs": [
    {
     "name": "stdout",
     "output_type": "stream",
     "text": [
      "6\n"
     ]
    }
   ],
   "source": [
    "capacity = 4 \n",
    "processList = [ 7, 0, 1, 2, 0, 3, 0, \n",
    "                4, 2, 3, 0, 3, 2] \n",
    "                  \n",
    "# List of current pages in Main Memory \n",
    "s = []  \n",
    "  \n",
    "pageFaults = 0\n",
    "# pageHits = 0 \n",
    "  \n",
    "for i in processList: \n",
    "  \n",
    "    # If i is not present in currentPages list \n",
    "    if i not in s: \n",
    "  \n",
    "        # Check if the list can hold equal pages \n",
    "        if(len(s) == capacity): \n",
    "            s.remove(s[0]) \n",
    "            s.append(i) \n",
    "  \n",
    "        else: \n",
    "            s.append(i) \n",
    "  \n",
    "        # Increment Page faults \n",
    "        pageFaults +=1\n",
    "  \n",
    "    # If page is already there in  \n",
    "    # currentPages i.e in Main \n",
    "    else: \n",
    "          \n",
    "        # Remove previous index of current page \n",
    "        s.remove(i) \n",
    "  \n",
    "        # Now append it, at last index \n",
    "        s.append(i) \n",
    "      \n",
    "print(\"{}\".format(pageFaults)) "
   ]
  },
  {
   "cell_type": "code",
   "execution_count": null,
   "metadata": {},
   "outputs": [],
   "source": []
  }
 ],
 "metadata": {
  "kernelspec": {
   "display_name": "Python 3",
   "language": "python",
   "name": "python3"
  },
  "language_info": {
   "codemirror_mode": {
    "name": "ipython",
    "version": 3
   },
   "file_extension": ".py",
   "mimetype": "text/x-python",
   "name": "python",
   "nbconvert_exporter": "python",
   "pygments_lexer": "ipython3",
   "version": "3.7.6"
  }
 },
 "nbformat": 4,
 "nbformat_minor": 4
}
