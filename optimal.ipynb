{
  "nbformat": 4,
  "nbformat_minor": 0,
  "metadata": {
    "colab": {
      "name": "optimal.ipynb",
      "provenance": []
    },
    "kernelspec": {
      "name": "python3",
      "display_name": "Python 3"
    }
  },
  "cells": [
    {
      "cell_type": "code",
      "metadata": {
        "colab": {
          "base_uri": "https://localhost:8080/"
        },
        "id": "2HpVRpm9-vv1",
        "outputId": "7707ef69-b999-4373-813c-f3475185bff6"
      },
      "source": [
        "frames = int(input(\"Enter the number of frames:\"))\n",
        "\n",
        "print(\"Enter the reference string: \",end=\"\")\n",
        "s = list(map(int,input().split()))\n",
        "f,fault,pf = [],0,'No'\n",
        "\n",
        "occurance = [None for i in range(frames)]\n",
        "for i in range(len(s)):\n",
        "    if s[i] not in f:\n",
        "        if len(f)<frames:\n",
        "            f.append(s[i])\n",
        "        else:\n",
        "            for x in range(len(f)):\n",
        "                if f[x] not in s[i+1:]:\n",
        "                    f[x] = s[i]\n",
        "                    break\n",
        "                else:\n",
        "                    occurance[x] = s[i+1:].index(f[x])\n",
        "            else:\n",
        "                f[occurance.index(max(occurance))] = s[i]\n",
        "        fault += 1\n",
        "        pf = 'Yes'\n",
        "    else:\n",
        "        pf = 'No'\n",
        "    print(\"   %d\\t\"%s[i],end='')\n",
        "\n",
        "    for x in f:\n",
        "        print(x,end=' ')\n",
        "    for x in range(frames-len(f)):\n",
        "        print(' ',end=' ')\n",
        "    print(\" %s\"%pf)\n",
        "print(\"\\nTotal requests: %d\\nTotal Page Faults: %d\"%(len(s),fault))\n"
      ],
      "execution_count": 6,
      "outputs": [
        {
          "output_type": "stream",
          "text": [
            "Enter the number of frames:3\n",
            "Enter the reference string:  7 0 1 2 0 3 0 4 2 3 0 3 2 1 2 0 1 7 0 1\n",
            "   7\t7      Yes\n",
            "   0\t7 0    Yes\n",
            "   1\t7 0 1  Yes\n",
            "   2\t2 0 1  Yes\n",
            "   0\t2 0 1  No\n",
            "   3\t2 0 3  Yes\n",
            "   0\t2 0 3  No\n",
            "   4\t2 4 3  Yes\n",
            "   2\t2 4 3  No\n",
            "   3\t2 4 3  No\n",
            "   0\t2 0 3  Yes\n",
            "   3\t2 0 3  No\n",
            "   2\t2 0 3  No\n",
            "   1\t2 0 1  Yes\n",
            "   2\t2 0 1  No\n",
            "   0\t2 0 1  No\n",
            "   1\t2 0 1  No\n",
            "   7\t7 0 1  Yes\n",
            "   0\t7 0 1  No\n",
            "   1\t7 0 1  No\n",
            "\n",
            "Total requests: 20\n",
            "Total Page Faults: 9\n"
          ],
          "name": "stdout"
        }
      ]
    },
    {
      "cell_type": "code",
      "metadata": {
        "id": "DESjcF84B7yK"
      },
      "source": [
        ""
      ],
      "execution_count": null,
      "outputs": []
    }
  ]
}